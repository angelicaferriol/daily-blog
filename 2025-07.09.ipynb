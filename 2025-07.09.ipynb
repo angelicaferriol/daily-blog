{
 "cells": [
  {
   "cell_type": "markdown",
   "id": "ba5b8011",
   "metadata": {},
   "source": [
    "# Daily Blog #70 - Causal Inference vs Correlation\n",
    "### July 9, 2025 \n",
    "\n",
    "### Definition and Distinction\n",
    "\n",
    "* **Correlation** refers to a statistical relationship where two variables move together. It does not imply a cause-and-effect relationship. A model that relies solely on correlation may capture patterns in data that do not hold under intervention.\n",
    "\n",
    "* **Causation** implies that changes in one variable produce changes in another. Identifying causal relationships requires more than pattern recognition—it requires assumptions, design, or domain knowledge.\n",
    "\n",
    "### Example of Misinterpretation\n",
    "\n",
    "A dataset may show a strong correlation between daily ice cream sales and drowning incidents. However, both are influenced by a third variable: temperature. Intervening on ice cream sales will not reduce drownings, because no causal relationship exists between the two.\n",
    "\n",
    "\n",
    "### Causal Inference Methods (Without Randomized Control Trials)\n",
    "\n",
    "1. **Propensity Score Matching (PSM)**\n",
    "   Attempts to simulate randomization by pairing units (e.g., people, entities) with similar characteristics across treatment and control groups based on a predicted probability of receiving treatment.\n",
    "\n",
    "2. **Instrumental Variables (IV)**\n",
    "   Utilizes a variable that affects treatment assignment but does not directly affect the outcome. Often used in economics when controlled experiments are unethical or impractical.\n",
    "\n",
    "3. **Difference-in-Differences (DiD)**\n",
    "   Compares changes in outcomes over time between a group exposed to a treatment and a group that is not. Controls for fixed differences between groups.\n",
    "\n",
    "4. **Regression Discontinuity Design (RDD)**\n",
    "   Applied when treatment is assigned based on a cutoff point. Analyzes observations close to the threshold to infer local causal effects.\n",
    "\n",
    "### Practical Implications\n",
    "\n",
    "Failure to distinguish between correlation and causation can result in flawed policies, wasted resources, or unintended harm. In contrast, models built with causal inference frameworks can inform decisions that lead to reliable and repeatable outcomes in real-world interventions."
   ]
  }
 ],
 "metadata": {
  "language_info": {
   "name": "python"
  }
 },
 "nbformat": 4,
 "nbformat_minor": 5
}

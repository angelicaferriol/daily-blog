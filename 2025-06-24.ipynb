{
 "cells": [
  {
   "cell_type": "markdown",
   "id": "019a188d",
   "metadata": {},
   "source": [
    "# Daily Blog #55 - Application Programming Interface (API)\n",
    "### June 24, 2025\n",
    "\n",
    "\n",
    "## What is an API?\n",
    "> An API is a set of **rules and tools** that allows two different software systems to talk to each other.\n",
    "\n",
    "### Real-world Analogy (Restaurant)\n",
    "\n",
    "* **You** = The client\n",
    "* **Kitchen** = The server\n",
    "* **Waiter (API)** = The interface that takes your order and returns food.\n",
    "\n",
    "You don’t go into the kitchen yourself — you just tell the waiter what you want. The waiter knows:\n",
    "\n",
    "1. How to pass the order to the kitchen.\n",
    "2. How to bring the food back.\n",
    "\n",
    "\n",
    "### Technical Explanation\n",
    "\n",
    "When you call an API, you’re making a **request**:\n",
    "\n",
    "* Could be something like `GET /users` to retrieve a list of users.\n",
    "* The server processes the request.\n",
    "* Then returns a **response** — often as `JSON` or `XML` — back to you.\n",
    "\n",
    "This **decouples** systems so they don’t need to know each other’s inner workings. You just need the **API contract**.\n",
    "\n",
    "\n",
    "### Common Examples\n",
    "* **Weather API:** Fetch the current temperature for a city.\n",
    "* **Google Maps API:** Show a map on your website.\n",
    "* **Twitter API:** Post tweets from your app.\n",
    "\n",
    "\n",
    "**Python example**:\n",
    "\n",
    "```python\n",
    "import requests\n",
    "\n",
    "# Fetch public GitHub API data\n",
    "response = requests.get('https://api.github.com')\n",
    "print(response.status_code)  # Check if it worked\n",
    "print(response.json())       # Print the data\n",
    "```\n"
   ]
  }
 ],
 "metadata": {
  "language_info": {
   "name": "python"
  }
 },
 "nbformat": 4,
 "nbformat_minor": 5
}
